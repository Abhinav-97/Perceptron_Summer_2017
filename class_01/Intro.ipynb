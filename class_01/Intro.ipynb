{
 "cells": [
  {
   "cell_type": "code",
   "execution_count": 21,
   "metadata": {
    "collapsed": false
   },
   "outputs": [
    {
     "name": "stdout",
     "output_type": "stream",
     "text": [
      "<type 'int'>\n",
      "this is a string <type 'str'>\n",
      "this is a new string\n",
      "--------------------------------------------------------------------------------\n",
      "16\n",
      "this is a string\n",
      "['ThiS I', ' a String']\n"
     ]
    }
   ],
   "source": [
    "# Integers, Strings\n",
    "my_var = 1\n",
    "\n",
    "print type(my_var)\n",
    "\n",
    "my_var = 'this is a string'\n",
    "print my_var,\n",
    "print type(my_var)\n",
    "\n",
    "print 'this is ' + 'a new string'\n",
    "print '-'*80\n",
    "\n",
    "# Strings\n",
    "s = 'ThiS Is a String'\n",
    "print s.__len__()\n",
    "\n",
    "print s.lower()\n",
    "\n",
    "print s.lower().split('s')"
   ]
  },
  {
   "cell_type": "code",
   "execution_count": 49,
   "metadata": {
    "collapsed": false
   },
   "outputs": [
    {
     "name": "stdout",
     "output_type": "stream",
     "text": [
      "0.1\n",
      "[1.0, 'ac', [1, 2, '111'], 0.1]\n",
      "111\n",
      "97 b\n",
      "--------------------------------------------------------------------------------\n",
      "[[1, 5], [4, 2], [7, 3], [0, -1]]\n",
      "[[0, -1], [1, 5], [4, 2], [7, 3]]\n",
      "[[0, -1], [4, 2], [7, 3], [1, 5]]\n",
      "[[1, 5], [4, 2], [7, 3], [0, -1], 12, 100]\n"
     ]
    }
   ],
   "source": [
    "# Lists\n",
    "l = [1.0, 'ac', [1, 2, '111'], 0.1]\n",
    "print l[-1]\n",
    "print l\n",
    "\n",
    "print int(l[2][-1])\n",
    "\n",
    "print ord('a'), chr(98)\n",
    "\n",
    "print '-'*80\n",
    "\n",
    "nums = [[1, 5], [4, 2], [7, 3], [0, -1]]\n",
    "print nums\n",
    "\n",
    "# print nums.sort()\n",
    "# print nums\n",
    "\n",
    "print sorted(nums)\n",
    "print sorted(nums, key=lambda x:[x[1], x[0]])# , reverse=True)\n",
    "\n",
    "nums.append(12)\n",
    "nums.append(100)\n",
    "print nums"
   ]
  },
  {
   "cell_type": "code",
   "execution_count": 66,
   "metadata": {
    "collapsed": false
   },
   "outputs": [
    {
     "name": "stdout",
     "output_type": "stream",
     "text": [
      "qwqwqww\n",
      "[[0, {0: 10, 'k': 1200}], 1221, 'val', 'qwqwqww', 0.1]\n"
     ]
    }
   ],
   "source": [
    "# Dictionaries\n",
    "d = {2: 'val', 'k': 0.1, 'q': [0, {0: 10, 'k': 1200}]}\n",
    "# print d['my_key']\n",
    "print d.setdefault('my_key', 'qwqwqww')\n",
    "d['qqq'] = 1221\n",
    "print d.values()"
   ]
  },
  {
   "cell_type": "code",
   "execution_count": 79,
   "metadata": {
    "collapsed": false
   },
   "outputs": [
    {
     "name": "stdout",
     "output_type": "stream",
     "text": [
      "(1, 2, 3)\n",
      "set([1, 2, 3, 4, 5, 6, 8, 9])\n",
      "set([0, 2, 3, 4, 6, 99, -1])\n"
     ]
    }
   ],
   "source": [
    "# Tuples\n",
    "a = (1, 2, 3)\n",
    "print a\n",
    "\n",
    "# Sets\n",
    "p = set([1, 4, 3, 2, 2, 3, 4, 5, 6, 4, 5, 3, 8, 9])\n",
    "q = set([-1, 0, 4, 3, 2, 3, 3, 2, 6, 99])\n",
    "\n",
    "print p\n",
    "print q"
   ]
  },
  {
   "cell_type": "code",
   "execution_count": 85,
   "metadata": {
    "collapsed": false
   },
   "outputs": [
    {
     "data": {
      "text/plain": [
       "xrange(10, 20, 2)"
      ]
     },
     "execution_count": 85,
     "metadata": {},
     "output_type": "execute_result"
    }
   ],
   "source": [
    "xrange(10, 20, 2)"
   ]
  },
  {
   "cell_type": "code",
   "execution_count": 98,
   "metadata": {
    "collapsed": false
   },
   "outputs": [
    {
     "name": "stdout",
     "output_type": "stream",
     "text": [
      "NO\n"
     ]
    }
   ],
   "source": [
    "x = 20\n",
    "\n",
    "if x > 5 and x < 12:\n",
    "    print \"YES\"\n",
    "elif x >= 12 and x<20:\n",
    "    print 'MED'\n",
    "else:\n",
    "    print 'NO'"
   ]
  },
  {
   "cell_type": "code",
   "execution_count": 105,
   "metadata": {
    "collapsed": false
   },
   "outputs": [
    {
     "name": "stdout",
     "output_type": "stream",
     "text": [
      "0 1.0\n",
      "1 ac\n",
      "2 [1, 2, '111']\n",
      "3 0.1\n",
      "1.0\n",
      "ac\n",
      "[1, 2, '111']\n",
      "0.1\n",
      "--------------------------------------------------------------------------------\n",
      "0\n",
      "1\n",
      "2\n",
      "3\n",
      "4\n",
      "5\n",
      "6\n",
      "7\n",
      "8\n",
      "9\n"
     ]
    }
   ],
   "source": [
    "for ix in range(len(l)):\n",
    "    print ix, l[ix]\n",
    "\n",
    "for ix in l:\n",
    "    print ix\n",
    "\n",
    "print '-'*80\n",
    "i = 0\n",
    "while i<10:\n",
    "    print i\n",
    "    i += 1"
   ]
  },
  {
   "cell_type": "code",
   "execution_count": 117,
   "metadata": {
    "collapsed": false
   },
   "outputs": [
    {
     "name": "stdout",
     "output_type": "stream",
     "text": [
      "1\n",
      "2\n",
      "Fizz\n",
      "4\n",
      "Buzz\n",
      "Fizz\n",
      "7\n",
      "8\n",
      "Fizz\n",
      "Buzz\n",
      "11\n",
      "Fizz\n",
      "13\n",
      "14\n",
      "FizzBuzz\n",
      "16\n",
      "17\n",
      "Fizz\n",
      "19\n",
      "Buzz\n",
      "Fizz\n",
      "22\n",
      "23\n",
      "Fizz\n",
      "Buzz\n",
      "26\n",
      "Fizz\n",
      "28\n",
      "29\n"
     ]
    }
   ],
   "source": [
    "# FizzBuzz\n",
    "r = range(1, 30)\n",
    "for ix in r:\n",
    "    if ix%3==0:\n",
    "        if ix%5==0:\n",
    "            print \"FizzBuzz\"\n",
    "        else:\n",
    "            print \"Fizz\"\n",
    "    elif ix%5==0:\n",
    "        print \"Buzz\"\n",
    "    else:\n",
    "        print ix"
   ]
  },
  {
   "cell_type": "code",
   "execution_count": 137,
   "metadata": {
    "collapsed": false
   },
   "outputs": [
    {
     "name": "stdout",
     "output_type": "stream",
     "text": [
      "(12.01, 12)\n",
      "{'a': 10, 'pq': -3, 'b': 20}\n",
      "None\n"
     ]
    }
   ],
   "source": [
    "def avg(*args, **kwargs):\n",
    "    print args\n",
    "    print kwargs\n",
    "\n",
    "\n",
    "\n",
    "print avg(12.01, 12, a=10, b=20, pq=-3)"
   ]
  },
  {
   "cell_type": "code",
   "execution_count": 141,
   "metadata": {
    "collapsed": false
   },
   "outputs": [
    {
     "name": "stdout",
     "output_type": "stream",
     "text": [
      "1.41421356237\n"
     ]
    }
   ],
   "source": [
    "from math import sqrt as sq\n",
    "\n",
    "print sq(2)"
   ]
  },
  {
   "cell_type": "code",
   "execution_count": 154,
   "metadata": {
    "collapsed": true
   },
   "outputs": [],
   "source": [
    "class MyClass:\n",
    "    x = 100\n",
    "    def __init__(self, x=0.1, y=10):\n",
    "        self.x = x\n",
    "        self.y = y\n",
    "    def create_new_z(self, z=11):\n",
    "        self.z = z\n",
    "    \n",
    "    def self_square(self):\n",
    "        self.x = self.x**2\n",
    "        self.y = self.y**2\n",
    "        self.z = self.z**2\n",
    "    \n",
    "    def multiply_w_sq(self, p):\n",
    "        self.self_square()\n",
    "        return p*(self.x) + p*(self.y) + p*(self.z)"
   ]
  },
  {
   "cell_type": "code",
   "execution_count": 156,
   "metadata": {
    "collapsed": false
   },
   "outputs": [
    {
     "name": "stdout",
     "output_type": "stream",
     "text": [
      "<__main__.MyClass instance at 0x7f28d42e4710>\n",
      "0.1\n",
      "10\n",
      "11\n",
      "-2210.1\n"
     ]
    }
   ],
   "source": [
    "a = MyClass()\n",
    "print a\n",
    "print a.x\n",
    "print a.y\n",
    "a.create_new_z()\n",
    "print a.z\n",
    "\n",
    "print a.multiply_w_sq(-10)"
   ]
  }
 ],
 "metadata": {
  "kernelspec": {
   "display_name": "Python 2",
   "language": "python",
   "name": "python2"
  },
  "language_info": {
   "codemirror_mode": {
    "name": "ipython",
    "version": 2
   },
   "file_extension": ".py",
   "mimetype": "text/x-python",
   "name": "python",
   "nbconvert_exporter": "python",
   "pygments_lexer": "ipython2",
   "version": "2.7.12"
  }
 },
 "nbformat": 4,
 "nbformat_minor": 2
}
